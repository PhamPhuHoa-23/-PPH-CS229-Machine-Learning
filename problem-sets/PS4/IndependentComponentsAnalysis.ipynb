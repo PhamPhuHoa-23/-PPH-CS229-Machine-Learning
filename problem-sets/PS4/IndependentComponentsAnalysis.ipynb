{
 "cells": [
  {
   "cell_type": "code",
   "execution_count": 1,
   "id": "initial_id",
   "metadata": {
    "ExecuteTime": {
     "end_time": "2024-10-06T00:59:10.728940Z",
     "start_time": "2024-10-06T00:59:10.020352Z"
    },
    "collapsed": true
   },
   "outputs": [],
   "source": [
    "import numpy as np\n",
    "import scipy.io.wavfile\n",
    "import os\n",
    "import numpy as np"
   ]
  },
  {
   "cell_type": "code",
   "id": "e0a0a5319edfa937",
   "metadata": {
    "ExecuteTime": {
     "end_time": "2024-10-06T01:48:14.847668Z",
     "start_time": "2024-10-06T01:48:14.618742Z"
    }
   },
   "source": [
    "def update_W(W, x, learning_rate):\n",
    "    \"\"\"\n",
    "    Perform a gradient ascent update on W using data element x and the provided learning rate.\n",
    "\n",
    "    This function should return the updated W.\n",
    "\n",
    "    Use the laplace distribiution in this problem.\n",
    "\n",
    "    Args:\n",
    "        W: The W matrix for ICA\n",
    "        x: A single data element\n",
    "        learning_rate: The learning rate to use\n",
    "\n",
    "    Returns:\n",
    "        The updated W\n",
    "    \"\"\"\n",
    "    \n",
    "    # *** START CODE HERE ***\n",
    "    # sign_matrix = np.where(W.dot(x) >= 0, 1, -1)\n",
    "    \n",
    "    updated_W = W + learning_rate * (np.linalg.inv(W.T) - np.sign(W.dot(x)).reshape(-1,1) @ x.reshape(1,-1))\n",
    "    # *** END CODE HERE ***\n",
    "\n",
    "    return updated_W"
   ],
   "outputs": [],
   "execution_count": 10
  },
  {
   "cell_type": "code",
   "execution_count": 15,
   "id": "4f4ee360ea0afff5",
   "metadata": {
    "ExecuteTime": {
     "end_time": "2024-10-06T00:59:25.184438Z",
     "start_time": "2024-10-06T00:59:25.176895Z"
    }
   },
   "outputs": [],
   "source": [
    "def unmix(X, W):\n",
    "    \"\"\"\n",
    "    Unmix an X matrix according to W using ICA.\n",
    "\n",
    "    Args:\n",
    "        X: The data matrix\n",
    "        W: The W for ICA\n",
    "\n",
    "    Returns:\n",
    "        A numpy array S containing the split data\n",
    "    \"\"\"\n",
    "\n",
    "    S = np.zeros(X.shape)\n",
    "\n",
    "\n",
    "    # *** START CODE HERE ***    \n",
    "    \n",
    "    # *** END CODE HERE ***\n",
    "\n",
    "    return X.dot(W.T)"
   ]
  },
  {
   "cell_type": "code",
   "execution_count": 4,
   "id": "db36ca183a5c0ea0",
   "metadata": {
    "ExecuteTime": {
     "end_time": "2024-10-06T00:59:27.010495Z",
     "start_time": "2024-10-06T00:59:27.002974Z"
    }
   },
   "outputs": [],
   "source": [
    "Fs = 11025"
   ]
  },
  {
   "cell_type": "code",
   "execution_count": 7,
   "id": "c9e81cf23530af0b",
   "metadata": {
    "ExecuteTime": {
     "end_time": "2024-10-06T00:59:56.669349Z",
     "start_time": "2024-10-06T00:59:56.649950Z"
    }
   },
   "outputs": [],
   "source": [
    "def normalize(dat):\n",
    "    return 0.99 * dat / np.max(np.abs(dat))\n",
    "\n",
    "def load_data():\n",
    "    mix = np.loadtxt('data/mix.dat')\n",
    "    return mix\n",
    "\n",
    "def save_W(W):\n",
    "    np.savetxt('output/W.txt',W)\n",
    "\n",
    "def save_sound(audio, name):\n",
    "    scipy.io.wavfile.write('output/{}.wav'.format(name), Fs, audio)\n",
    "\n",
    "def unmixer(X):\n",
    "    M, N = X.shape\n",
    "    W = np.eye(N)\n",
    "\n",
    "    anneal = [0.1 , 0.1, 0.1, 0.05, 0.05, 0.05, 0.02, 0.02, 0.01 , 0.01, 0.005, 0.005, 0.002, 0.002, 0.001, 0.001]\n",
    "    print('Separating tracks ...')\n",
    "    for lr in anneal:\n",
    "        print(lr)\n",
    "        rand = np.random.permutation(range(M))\n",
    "        for i in rand:\n",
    "            x = X[i]\n",
    "            W = update_W(W, x, lr)\n",
    "    print('Suceed separating tracks ...')\n",
    "    return W\n",
    "\n",
    "def main():\n",
    "    # Seed the randomness of the simulation so this outputs the same thing each time\n",
    "    np.random.seed(0)\n",
    "    X = normalize(load_data())\n",
    "\n",
    "    print(X.shape)\n",
    "\n",
    "    for i in range(X.shape[1]):\n",
    "        save_sound(X[:, i], 'mixed_{}'.format(i))\n",
    "\n",
    "    W = unmixer(X)\n",
    "    print(W)\n",
    "    save_W(W)\n",
    "    S = normalize(unmix(X, W))\n",
    "    assert S.shape[1] == 5\n",
    "    for i in range(S.shape[1]):\n",
    "        if os.path.exists('split_{}'.format(i)):\n",
    "            os.unlink('split_{}'.format(i))\n",
    "        save_sound(S[:, i], 'split_{}'.format(i))"
   ]
  },
  {
   "cell_type": "code",
   "id": "447e3e5db9f69cfe",
   "metadata": {
    "ExecuteTime": {
     "end_time": "2024-10-06T01:49:06.079302Z",
     "start_time": "2024-10-06T01:48:20.297214Z"
    }
   },
   "source": [
    "if __name__ == '__main__':\n",
    "    main()"
   ],
   "outputs": [
    {
     "name": "stdout",
     "output_type": "stream",
     "text": [
      "(53442, 5)\n",
      "Separating tracks ...\n",
      "0.1\n",
      "0.1\n",
      "0.1\n",
      "0.05\n",
      "0.05\n",
      "0.05\n",
      "0.02\n",
      "0.02\n",
      "0.01\n",
      "0.01\n",
      "0.005\n",
      "0.005\n",
      "0.002\n",
      "0.002\n",
      "0.001\n",
      "0.001\n",
      "[[ 52.83492974  16.79598806  19.9411949  -10.19841036 -20.8977174 ]\n",
      " [ -9.9368057   -0.97879563  -4.68186342   8.0430365    1.79099473]\n",
      " [  8.31143332  -7.47699382  19.31554724  15.17460858 -14.32640472]\n",
      " [-14.66729873 -26.64481368   2.44071692  21.38223128  -8.42094492]\n",
      " [ -0.26917605  18.37373974   9.31200636   9.10275731  30.59390495]]\n"
     ]
    }
   ],
   "execution_count": 11
  }
 ],
 "metadata": {
  "kernelspec": {
   "display_name": "Python 3",
   "language": "python",
   "name": "python3"
  },
  "language_info": {
   "codemirror_mode": {
    "name": "ipython",
    "version": 3
   },
   "file_extension": ".py",
   "mimetype": "text/x-python",
   "name": "python",
   "nbconvert_exporter": "python",
   "pygments_lexer": "ipython3",
   "version": "3.11.9"
  }
 },
 "nbformat": 4,
 "nbformat_minor": 5
}
