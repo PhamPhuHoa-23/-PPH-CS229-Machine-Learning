{
 "cells": [
  {
   "metadata": {},
   "cell_type": "markdown",
   "source": [
    "# 1. Importance Sampling\n",
    "\n",
    "\\begin{align*}\n",
    "    IS &= \\mathbf{E}_{s \\~\\ p(s), a \\~\\ \\pi_{0}(s, a)} \\frac{\\pi_{1}(s, a)}{\\pi_{0}(s, a)} R(s, a) \\\\\n",
    "    &= \\sum_{s, a} \\frac{\\pi_{1}(s, a)}{\\pi_{0}(s, a)} R(s, a) p(s, a) \\\\\n",
    "    &= \\sum_{s, a} \\frac{\\pi_{1}(s, a)}{\\pi_{0}(s, a)} R(s, a) p(s) \\pi_{0}(s,a) \\\\\n",
    "    &= \\sum_{s, a} \\pi_{1}(s, a) R(s, a) p(s) \\\\\n",
    "    &= \\mathbf{E}_{s \\~\\ p(s), a \\~\\ \\pi_{1}(s, a)} R(s, a)\n",
    "\\end{align*}"
   ],
   "id": "f66023e2c1a0d4cc"
  },
  {
   "metadata": {},
   "cell_type": "markdown",
   "source": [
    "# 2. Weighted Importance Sampling\n",
    "\n",
    "\\begin{align*}\n",
    "    \\mathbf{WIS} &= \\frac{\n",
    "        \\mathbf{E}_{s \\~\\ p(s), a \\~\\ \\pi_{0}(s, a)} \\frac{\\pi_{1}(s, a)}{\\pi_{0}(s, a)} R(s, a)\n",
    "    }{\n",
    "        \\mathbf{E}_{s \\~\\ p(s), a \\~\\ \\pi_{0}(s, a)} \\frac{\\pi_{1}(s, a)}{\\pi_{0}(s, a)}\n",
    "    } \\\\\n",
    "    &= \\frac{\n",
    "        \\mathbf{E}_{s \\~\\ p(s), a \\~\\ \\pi_{1}(s, a)} R(s, a)\n",
    "    }{\n",
    "        \\mathbf{E}_{s \\~\\ p(s), a \\~\\ \\pi_{1}(s, a)} 1\n",
    "    } \\\\\n",
    "    &= \\mathbf{E}_{s \\~\\ p(s), a \\~\\ \\pi_{1}(s, a)} R(s, a)\n",
    "\\end{align*}"
   ],
   "id": "fd8416e378baf837"
  },
  {
   "cell_type": "code",
   "execution_count": null,
   "id": "initial_id",
   "metadata": {
    "collapsed": true
   },
   "outputs": [],
   "source": [
    ""
   ]
  }
 ],
 "metadata": {
  "kernelspec": {
   "display_name": "Python 3",
   "language": "python",
   "name": "python3"
  },
  "language_info": {
   "codemirror_mode": {
    "name": "ipython",
    "version": 2
   },
   "file_extension": ".py",
   "mimetype": "text/x-python",
   "name": "python",
   "nbconvert_exporter": "python",
   "pygments_lexer": "ipython2",
   "version": "2.7.6"
  }
 },
 "nbformat": 4,
 "nbformat_minor": 5
}
